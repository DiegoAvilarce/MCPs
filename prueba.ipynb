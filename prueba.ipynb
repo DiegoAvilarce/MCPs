{
 "cells": [
  {
   "cell_type": "markdown",
   "id": "7ca689c2",
   "metadata": {},
   "source": [
    "# Consulta de Hora en Brasil usando MCPs\n",
    "\n",
    "Este notebook demuestra cómo usar las funciones MCP (Model Context Protocol) para consultar la hora actual en Brasil."
   ]
  },
  {
   "cell_type": "markdown",
   "id": "d8b7e8f6",
   "metadata": {},
   "source": [
    "## Resultado de la Consulta\n",
    "\n",
    "**Hora actual en Brasil (São Paulo):** 9:51 AM\n",
    "**Fecha:** 13 de junio de 2025\n",
    "**Zona horaria:** America/Sao_Paulo (UTC-3)\n",
    "**Horario de verano:** No activo"
   ]
  },
  {
   "cell_type": "markdown",
   "id": "c389fe34",
   "metadata": {},
   "source": [
    "## Información Adicional\n",
    "\n",
    "Brasil tiene múltiples zonas horarias, pero la más común es la de São Paulo (UTC-3). Durante el horario de verano brasileño (octubre a febrero), la zona horaria cambia a UTC-2.\n",
    "\n",
    "### Principales zonas horarias de Brasil:\n",
    "- **América/Sao_Paulo** - Región Sudeste y Sur (UTC-3)\n",
    "- **América/Manaus** - Región Amazónica (UTC-4)\n",
    "- **América/Fortaleza** - Región Nordeste (UTC-3)\n",
    "- **América/Noronha** - Fernando de Noronha (UTC-2)"
   ]
  }
 ],
 "metadata": {
  "language_info": {
   "name": "python"
  }
 },
 "nbformat": 4,
 "nbformat_minor": 5
}
